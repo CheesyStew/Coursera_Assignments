{
 "cells": [
  {
   "cell_type": "markdown",
   "id": "20dc7fdf",
   "metadata": {},
   "source": [
    "# Data Science tools and Ecosystem "
   ]
  },
  {
   "cell_type": "markdown",
   "id": "9d742d73",
   "metadata": {},
   "source": [
    "In this notebook, The Tools and Ecosystem used in Datascience are summarized"
   ]
  },
  {
   "cell_type": "markdown",
   "id": "bfecc3ee",
   "metadata": {},
   "source": [
    "Some of the popular languages that Data Scientists use are:\n",
    "1. Python\n",
    "2. R\n",
    "3. SQL\n",
    "4. C++\n",
    "5. Java\n",
    "6. Ruby\n",
    "7. PHP"
   ]
  },
  {
   "cell_type": "markdown",
   "id": "8311218a",
   "metadata": {},
   "source": [
    "Some of the commonly used libraries by Data Scientists are:\n",
    "1. TensorFlow\n",
    "2. NumPy\n",
    "3. SciPy\n",
    "4. MatplotLib\n",
    "5. Pandas\n",
    "6. Keras\n",
    "7. SciKit-Learn\n",
    "8. PyTorch\n",
    "9. Seaborn"
   ]
  },
  {
   "cell_type": "markdown",
   "id": "90f3b8e7",
   "metadata": {},
   "source": [
    "|Data Science Tools which are Widely used are|\n",
    "|---|\n",
    "|SAS|\n",
    "|Apache Hadoop|\n",
    "|TensorFlow|\n",
    "|R Studio|\n",
    "|Anaconda|\n",
    "|Spyder|"
   ]
  },
  {
   "cell_type": "markdown",
   "id": "3d8065a4",
   "metadata": {},
   "source": [
    "### Below are the few examples of evaluating arithmetic expressions in Python"
   ]
  },
  {
   "cell_type": "code",
   "execution_count": 8,
   "id": "e85da12e",
   "metadata": {},
   "outputs": [
    {
     "data": {
      "text/plain": [
       "17"
      ]
     },
     "execution_count": 8,
     "metadata": {},
     "output_type": "execute_result"
    }
   ],
   "source": [
    "#This is used to multiply and then add integers\n",
    "(3*4)+5"
   ]
  },
  {
   "cell_type": "code",
   "execution_count": 7,
   "id": "a884fd63",
   "metadata": {},
   "outputs": [
    {
     "data": {
      "text/plain": [
       "3.3333333333333335"
      ]
     },
     "execution_count": 7,
     "metadata": {},
     "output_type": "execute_result"
    }
   ],
   "source": [
    "#This will convert 200 minutes to hours\n",
    "200/60"
   ]
  },
  {
   "cell_type": "markdown",
   "id": "fd6463bf",
   "metadata": {},
   "source": [
    "__Objective__\n",
    "* List popular languages used in Data Science\n",
    "* List popular libraries used in Data Science\n",
    "* List popular tools used in Data Science\n",
    "* How to provide comments in cells\n",
    "* To use various Arithmetic expression in Python\n",
    "\n"
   ]
  },
  {
   "cell_type": "markdown",
   "id": "93ced05e",
   "metadata": {},
   "source": [
    "## Author\n",
    "Ashwin S Bharadwaj"
   ]
  },
  {
   "cell_type": "code",
   "execution_count": null,
   "id": "ff9d892c",
   "metadata": {},
   "outputs": [],
   "source": []
  }
 ],
 "metadata": {
  "kernelspec": {
   "display_name": "Python 3",
   "language": "python",
   "name": "python3"
  },
  "language_info": {
   "codemirror_mode": {
    "name": "ipython",
    "version": 3
   },
   "file_extension": ".py",
   "mimetype": "text/x-python",
   "name": "python",
   "nbconvert_exporter": "python",
   "pygments_lexer": "ipython3",
   "version": "3.8.8"
  }
 },
 "nbformat": 4,
 "nbformat_minor": 5
}
